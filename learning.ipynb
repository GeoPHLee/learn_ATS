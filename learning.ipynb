{
 "cells": [
  {
   "cell_type": "code",
   "execution_count": 19,
   "metadata": {},
   "outputs": [],
   "source": [
    "import pandas as pd\n",
    "import torch\n",
    "import numpy as np\n",
    "import torch.utils.data as Data\n"
   ]
  },
  {
   "cell_type": "code",
   "execution_count": 16,
   "metadata": {},
   "outputs": [],
   "source": [
    "tisdb=pd.read_csv(\"/data/reference/human/TIS/human_tisdb_data_1.0.csv\")"
   ]
  },
  {
   "cell_type": "code",
   "execution_count": 17,
   "metadata": {},
   "outputs": [
    {
     "data": {
      "text/html": [
       "<div>\n",
       "<style scoped>\n",
       "    .dataframe tbody tr th:only-of-type {\n",
       "        vertical-align: middle;\n",
       "    }\n",
       "\n",
       "    .dataframe tbody tr th {\n",
       "        vertical-align: top;\n",
       "    }\n",
       "\n",
       "    .dataframe thead th {\n",
       "        text-align: right;\n",
       "    }\n",
       "</style>\n",
       "<table border=\"1\" class=\"dataframe\">\n",
       "  <thead>\n",
       "    <tr style=\"text-align: right;\">\n",
       "      <th></th>\n",
       "      <th>Gene</th>\n",
       "      <th>Transcript</th>\n",
       "      <th>Chr</th>\n",
       "      <th>Strand</th>\n",
       "      <th>Coordinate_start_ codon</th>\n",
       "      <th>Start_Codon</th>\n",
       "      <th>Coordinate_stop_codon</th>\n",
       "      <th>Stop_Codon</th>\n",
       "      <th>TIS_type</th>\n",
       "      <th>Predicted_uORF</th>\n",
       "    </tr>\n",
       "  </thead>\n",
       "  <tbody>\n",
       "    <tr>\n",
       "      <th>0</th>\n",
       "      <td>RANGRF</td>\n",
       "      <td>NM_001177802</td>\n",
       "      <td>chr17</td>\n",
       "      <td>+</td>\n",
       "      <td>8192082</td>\n",
       "      <td>ATG</td>\n",
       "      <td>8192175</td>\n",
       "      <td>TGA</td>\n",
       "      <td>uTIS</td>\n",
       "      <td>No</td>\n",
       "    </tr>\n",
       "    <tr>\n",
       "      <th>1</th>\n",
       "      <td>RANGRF</td>\n",
       "      <td>NM_016492</td>\n",
       "      <td>chr17</td>\n",
       "      <td>+</td>\n",
       "      <td>8192082</td>\n",
       "      <td>ATG</td>\n",
       "      <td>8192175</td>\n",
       "      <td>TGA</td>\n",
       "      <td>uTIS</td>\n",
       "      <td>No</td>\n",
       "    </tr>\n",
       "    <tr>\n",
       "      <th>2</th>\n",
       "      <td>RANGRF</td>\n",
       "      <td>NM_001177801</td>\n",
       "      <td>chr17</td>\n",
       "      <td>+</td>\n",
       "      <td>8192082</td>\n",
       "      <td>ATG</td>\n",
       "      <td>8192175</td>\n",
       "      <td>TGA</td>\n",
       "      <td>uTIS</td>\n",
       "      <td>No</td>\n",
       "    </tr>\n",
       "    <tr>\n",
       "      <th>3</th>\n",
       "      <td>HIST1H4B</td>\n",
       "      <td>NM_003544</td>\n",
       "      <td>chr6</td>\n",
       "      <td>-</td>\n",
       "      <td>26027228</td>\n",
       "      <td>ATG</td>\n",
       "      <td>26027170</td>\n",
       "      <td>TAA</td>\n",
       "      <td>dTIS</td>\n",
       "      <td>No</td>\n",
       "    </tr>\n",
       "    <tr>\n",
       "      <th>4</th>\n",
       "      <td>FGFR1OP2</td>\n",
       "      <td>NM_001171887</td>\n",
       "      <td>chr12</td>\n",
       "      <td>+</td>\n",
       "      <td>27107092</td>\n",
       "      <td>ATG</td>\n",
       "      <td>27117664</td>\n",
       "      <td>TGA</td>\n",
       "      <td>aTIS</td>\n",
       "      <td>No</td>\n",
       "    </tr>\n",
       "  </tbody>\n",
       "</table>\n",
       "</div>"
      ],
      "text/plain": [
       "       Gene    Transcript    Chr Strand  Coordinate_start_ codon Start_Codon  \\\n",
       "0    RANGRF  NM_001177802  chr17      +                  8192082         ATG   \n",
       "1    RANGRF     NM_016492  chr17      +                  8192082         ATG   \n",
       "2    RANGRF  NM_001177801  chr17      +                  8192082         ATG   \n",
       "3  HIST1H4B     NM_003544   chr6      -                 26027228         ATG   \n",
       "4  FGFR1OP2  NM_001171887  chr12      +                 27107092         ATG   \n",
       "\n",
       "   Coordinate_stop_codon Stop_Codon TIS_type Predicted_uORF  \n",
       "0                8192175        TGA     uTIS             No  \n",
       "1                8192175        TGA     uTIS             No  \n",
       "2                8192175        TGA     uTIS             No  \n",
       "3               26027170        TAA     dTIS             No  \n",
       "4               27117664        TGA     aTIS             No  "
      ]
     },
     "execution_count": 17,
     "metadata": {},
     "output_type": "execute_result"
    }
   ],
   "source": [
    "tisdb.head()"
   ]
  },
  {
   "cell_type": "code",
   "execution_count": 18,
   "metadata": {},
   "outputs": [],
   "source": [
    "test=tisdb[tisdb.TIS_type==\"uTIS\"]"
   ]
  },
  {
   "cell_type": "code",
   "execution_count": 19,
   "metadata": {},
   "outputs": [
    {
     "data": {
      "text/html": [
       "<div>\n",
       "<style scoped>\n",
       "    .dataframe tbody tr th:only-of-type {\n",
       "        vertical-align: middle;\n",
       "    }\n",
       "\n",
       "    .dataframe tbody tr th {\n",
       "        vertical-align: top;\n",
       "    }\n",
       "\n",
       "    .dataframe thead th {\n",
       "        text-align: right;\n",
       "    }\n",
       "</style>\n",
       "<table border=\"1\" class=\"dataframe\">\n",
       "  <thead>\n",
       "    <tr style=\"text-align: right;\">\n",
       "      <th></th>\n",
       "      <th>Gene</th>\n",
       "      <th>Transcript</th>\n",
       "      <th>Chr</th>\n",
       "      <th>Strand</th>\n",
       "      <th>Coordinate_start_ codon</th>\n",
       "      <th>Start_Codon</th>\n",
       "      <th>Coordinate_stop_codon</th>\n",
       "      <th>Stop_Codon</th>\n",
       "      <th>TIS_type</th>\n",
       "      <th>Predicted_uORF</th>\n",
       "    </tr>\n",
       "  </thead>\n",
       "  <tbody>\n",
       "    <tr>\n",
       "      <th>0</th>\n",
       "      <td>RANGRF</td>\n",
       "      <td>NM_001177802</td>\n",
       "      <td>chr17</td>\n",
       "      <td>+</td>\n",
       "      <td>8192082</td>\n",
       "      <td>ATG</td>\n",
       "      <td>8192175</td>\n",
       "      <td>TGA</td>\n",
       "      <td>uTIS</td>\n",
       "      <td>No</td>\n",
       "    </tr>\n",
       "    <tr>\n",
       "      <th>1</th>\n",
       "      <td>RANGRF</td>\n",
       "      <td>NM_016492</td>\n",
       "      <td>chr17</td>\n",
       "      <td>+</td>\n",
       "      <td>8192082</td>\n",
       "      <td>ATG</td>\n",
       "      <td>8192175</td>\n",
       "      <td>TGA</td>\n",
       "      <td>uTIS</td>\n",
       "      <td>No</td>\n",
       "    </tr>\n",
       "    <tr>\n",
       "      <th>2</th>\n",
       "      <td>RANGRF</td>\n",
       "      <td>NM_001177801</td>\n",
       "      <td>chr17</td>\n",
       "      <td>+</td>\n",
       "      <td>8192082</td>\n",
       "      <td>ATG</td>\n",
       "      <td>8192175</td>\n",
       "      <td>TGA</td>\n",
       "      <td>uTIS</td>\n",
       "      <td>No</td>\n",
       "    </tr>\n",
       "    <tr>\n",
       "      <th>7</th>\n",
       "      <td>RNF10</td>\n",
       "      <td>NM_014868</td>\n",
       "      <td>chr12</td>\n",
       "      <td>+</td>\n",
       "      <td>120972227</td>\n",
       "      <td>GTG</td>\n",
       "      <td>120972458</td>\n",
       "      <td>TAG</td>\n",
       "      <td>uTIS</td>\n",
       "      <td>Yes</td>\n",
       "    </tr>\n",
       "    <tr>\n",
       "      <th>8</th>\n",
       "      <td>RNF10</td>\n",
       "      <td>NM_014868</td>\n",
       "      <td>chr12</td>\n",
       "      <td>+</td>\n",
       "      <td>120972492</td>\n",
       "      <td>ATG</td>\n",
       "      <td>120972501</td>\n",
       "      <td>TGA</td>\n",
       "      <td>uTIS</td>\n",
       "      <td>Yes</td>\n",
       "    </tr>\n",
       "  </tbody>\n",
       "</table>\n",
       "</div>"
      ],
      "text/plain": [
       "     Gene    Transcript    Chr Strand  Coordinate_start_ codon Start_Codon  \\\n",
       "0  RANGRF  NM_001177802  chr17      +                  8192082         ATG   \n",
       "1  RANGRF     NM_016492  chr17      +                  8192082         ATG   \n",
       "2  RANGRF  NM_001177801  chr17      +                  8192082         ATG   \n",
       "7   RNF10     NM_014868  chr12      +                120972227         GTG   \n",
       "8   RNF10     NM_014868  chr12      +                120972492         ATG   \n",
       "\n",
       "   Coordinate_stop_codon Stop_Codon TIS_type Predicted_uORF  \n",
       "0                8192175        TGA     uTIS             No  \n",
       "1                8192175        TGA     uTIS             No  \n",
       "2                8192175        TGA     uTIS             No  \n",
       "7              120972458        TAG     uTIS            Yes  \n",
       "8              120972501        TGA     uTIS            Yes  "
      ]
     },
     "execution_count": 19,
     "metadata": {},
     "output_type": "execute_result"
    }
   ],
   "source": [
    "test.head()"
   ]
  },
  {
   "cell_type": "code",
   "execution_count": 15,
   "metadata": {},
   "outputs": [
    {
     "name": "stderr",
     "output_type": "stream",
     "text": [
      "/home/lijiefu/anaconda3/envs/pytorch_learn/lib/python3.7/site-packages/ipykernel_launcher.py:17: DeprecationWarning: The binary mode of fromstring is deprecated, as it behaves surprisingly on unicode inputs. Use frombuffer instead\n"
     ]
    }
   ],
   "source": [
    "atis=open(\"/data/jeff/work/learning/learning_resource/ATS/atis.input\",'r')\n",
    "atis_all_list=[]\n",
    "with atis as atis_all:\n",
    "    for line in atis_all:\n",
    "        atis_all_list.append(one_hot_encode(line.strip()))\n",
    "dtis=open(\"/data/jeff/work/learning/learning_resource/ATS/dtis.input\",'r')\n",
    "dtis_all_list=[]\n",
    "with dtis as dtis_all:\n",
    "    for line in dtis_all:\n",
    "        dtis_all_list.append(one_hot_encode(line.strip()))\n",
    "utis=open(\"/data/jeff/work/learning/learning_resource/ATS/utis.input\",'r')\n",
    "utis_all_list=[]\n",
    "with utis as utis_all:\n",
    "    for line in utis_all:\n",
    "        utis_all_list.append(one_hot_encode(line.strip()))"
   ]
  },
  {
   "cell_type": "code",
   "execution_count": 3,
   "metadata": {},
   "outputs": [],
   "source": [
    "def one_hot_encode(seq):\n",
    "#    map = np.asarray([[0, 0, 0, 0],\n",
    "#                      [1, 0, 0, 0],\n",
    "#                      [0, 1, 0, 0],\n",
    "#                      [0, 0, 1, 0],\n",
    "#                      [0, 0, 0, 1]])\n",
    "#\tnumpy version\n",
    "\tmap=torch.tensor([[0, 0, 0, 0],\n",
    "\t                  [1, 0, 0, 0],\n",
    "\t                  [0, 1, 0, 0],\n",
    "\t                  [0, 0, 1, 0],\n",
    "\t                  [0, 0, 0, 1]])\n",
    "\tseq = seq.upper().replace('A', '\\x01').replace('C', '\\x02')\n",
    "\tseq = seq.replace('G', '\\x03').replace('T', '\\x04').replace('N', '\\x00')\n",
    "\t#return map[np.fromstring(seq, np.int8) % 5] numpy version\n",
    "\n",
    "\tmap = map[np.fromstring(seq, np.int8)%5]\n",
    "\treturn map\n"
   ]
  },
  {
   "cell_type": "code",
   "execution_count": 13,
   "metadata": {},
   "outputs": [
    {
     "name": "stderr",
     "output_type": "stream",
     "text": [
      "/home/lijiefu/anaconda3/envs/pytorch_learn/lib/python3.7/site-packages/ipykernel_launcher.py:17: DeprecationWarning: The binary mode of fromstring is deprecated, as it behaves surprisingly on unicode inputs. Use frombuffer instead\n"
     ]
    }
   ],
   "source": [
    "atis_all_list=[]\n",
    "\n",
    "with atis as atis_all:\n",
    "    for line in atis_all:\n",
    "        atis_all_list.append(one_hot_encode(line.strip()))\n",
    "        "
   ]
  },
  {
   "cell_type": "code",
   "execution_count": 18,
   "metadata": {},
   "outputs": [
    {
     "data": {
      "text/plain": [
       "1113"
      ]
     },
     "execution_count": 18,
     "metadata": {},
     "output_type": "execute_result"
    }
   ],
   "source": [
    "len(atis_all_list)\n",
    "len(dtis_all_list)\n",
    "#len(utis_all_list)"
   ]
  },
  {
   "cell_type": "code",
   "execution_count": 20,
   "metadata": {},
   "outputs": [
    {
     "data": {
      "text/plain": [
       "tensor([ 1.,  2.,  3.,  4.,  5.,  6.,  7.,  8.,  9., 10.])"
      ]
     },
     "execution_count": 20,
     "metadata": {},
     "output_type": "execute_result"
    }
   ],
   "source": [
    " torch.linspace(1, 10, 10)"
   ]
  }
 ],
 "metadata": {
  "kernelspec": {
   "display_name": "Python 3",
   "language": "python",
   "name": "python3"
  },
  "language_info": {
   "codemirror_mode": {
    "name": "ipython",
    "version": 3
   },
   "file_extension": ".py",
   "mimetype": "text/x-python",
   "name": "python",
   "nbconvert_exporter": "python",
   "pygments_lexer": "ipython3",
   "version": "3.7.3"
  }
 },
 "nbformat": 4,
 "nbformat_minor": 2
}
